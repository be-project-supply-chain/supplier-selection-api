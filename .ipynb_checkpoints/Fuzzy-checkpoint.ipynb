{
 "cells": [
  {
   "cell_type": "code",
   "execution_count": 1,
   "metadata": {},
   "outputs": [
    {
     "ename": "ModuleNotFoundError",
     "evalue": "No module named 'skfuzzy'",
     "output_type": "error",
     "traceback": [
      "\u001b[1;31m---------------------------------------------------------------------------\u001b[0m",
      "\u001b[1;31mModuleNotFoundError\u001b[0m                       Traceback (most recent call last)",
      "\u001b[1;32m<ipython-input-1-ea41b61ec151>\u001b[0m in \u001b[0;36m<module>\u001b[1;34m\u001b[0m\n\u001b[0;32m      1\u001b[0m \u001b[1;32mimport\u001b[0m \u001b[0mnumpy\u001b[0m \u001b[1;32mas\u001b[0m \u001b[0mnp\u001b[0m\u001b[1;33m\u001b[0m\u001b[1;33m\u001b[0m\u001b[0m\n\u001b[1;32m----> 2\u001b[1;33m \u001b[1;32mimport\u001b[0m \u001b[0mskfuzzy\u001b[0m \u001b[1;32mas\u001b[0m \u001b[0mfuzz\u001b[0m\u001b[1;33m\u001b[0m\u001b[1;33m\u001b[0m\u001b[0m\n\u001b[0m\u001b[0;32m      3\u001b[0m \u001b[1;32mfrom\u001b[0m \u001b[0mskfuzzy\u001b[0m \u001b[1;32mimport\u001b[0m \u001b[0mcontrol\u001b[0m \u001b[1;32mas\u001b[0m \u001b[0mctrl\u001b[0m\u001b[1;33m\u001b[0m\u001b[1;33m\u001b[0m\u001b[0m\n\u001b[0;32m      4\u001b[0m \u001b[1;33m\u001b[0m\u001b[0m\n\u001b[0;32m      5\u001b[0m \u001b[1;31m# New Antecedent/Consequent objects hold universe variables and membership\u001b[0m\u001b[1;33m\u001b[0m\u001b[1;33m\u001b[0m\u001b[1;33m\u001b[0m\u001b[0m\n",
      "\u001b[1;31mModuleNotFoundError\u001b[0m: No module named 'skfuzzy'"
     ]
    }
   ],
   "source": [
    "import numpy as np\n",
    "import skfuzzy as fuzz\n",
    "from skfuzzy import control as ctrl\n",
    "\n",
    "# New Antecedent/Consequent objects hold universe variables and membership\n",
    "# functions\n",
    "# experience = ctrl.Antecedent(np.arange(1,5, 1), 'experience')\n",
    "# timeliness = ctrl.Antecedent(np.arange(1, 5, 1), 'timeliness')\n",
    "# support= ctrl.Antecedent(np.arange(1, 5, 1), 'support')\n",
    "# interaction= ctrl.Antecedent(np.arange(1, 5, 1), 'interaction')\n",
    "# quality= ctrl.Antecedent(np.arange(1, 5, 1), 'quality')\n",
    "# trouble= ctrl.Antecedent(np.arange(0, 2, 1), 'trouble')\n",
    "# rating = ctrl.Consequent(np.arange(1, 6, 1), 'rating')"
   ]
  },
  {
   "cell_type": "code",
   "execution_count": 45,
   "metadata": {},
   "outputs": [
    {
     "name": "stdout",
     "output_type": "stream",
     "text": [
      "2\n",
      "2\n",
      "2\n",
      "2\n",
      "2\n",
      "1\n"
     ]
    }
   ],
   "source": []
  },
  {
   "cell_type": "code",
   "execution_count": 51,
   "metadata": {},
   "outputs": [],
   "source": [
    "def output(experience,timeliness,support,interaction,quality,trouble):\n",
    "    if (experience==4 and timeliness==4 and support==4 and interaction==4 and quality==4 and trouble==0):\n",
    "        return 5\n",
    "    elif (experience==1 and timeliness==1 and support==1 and interaction==1 and quality==1 and trouble==1):\n",
    "        return 1\n",
    "    elif (experience==2 and timeliness==2 and support==1 and interaction==1 and quality==1 and trouble==0):\n",
    "        return 1.5\n",
    "    elif (experience<=2 and timeliness<=2 and support>=3 and interaction<=3 and quality<=3 and trouble==1):\n",
    "        return 2\n",
    "    elif (experience<=2 and timeliness<=2 and support>=3 and interaction<=3 and quality<=3 and trouble==0):\n",
    "        return 2.5\n",
    "    elif (experience==3 and timeliness==2 and support==3 and interaction==1 and quality==2 and trouble==1):\n",
    "        return 3\n",
    "    elif (experience==3 and timeliness==2 and support==2 and interaction==1 and quality==2 and trouble==1):\n",
    "        return 3.5\n",
    "    elif (experience==3 and timeliness==3 and support<=3 and interaction<=3 and quality==3 and trouble==1):\n",
    "        return 4\n",
    "    else :\n",
    "        return 4.5\n"
   ]
  },
  {
   "cell_type": "code",
   "execution_count": 65,
   "metadata": {},
   "outputs": [
    {
     "name": "stdout",
     "output_type": "stream",
     "text": [
      "1\n",
      "2\n",
      "3\n",
      "1\n",
      "2\n",
      "1\n"
     ]
    }
   ],
   "source": [
    "ex = input()\n",
    "time = input()\n",
    "su= input()\n",
    "inter= input()\n",
    "qu= input()\n",
    "tr= input()\n",
    "\n"
   ]
  },
  {
   "cell_type": "code",
   "execution_count": 67,
   "metadata": {},
   "outputs": [
    {
     "data": {
      "text/plain": [
       "'2'"
      ]
     },
     "execution_count": 67,
     "metadata": {},
     "output_type": "execute_result"
    }
   ],
   "source": [
    "ex\n",
    "\n",
    "time"
   ]
  },
  {
   "cell_type": "code",
   "execution_count": 68,
   "metadata": {},
   "outputs": [
    {
     "ename": "TypeError",
     "evalue": "'<=' not supported between instances of 'str' and 'int'",
     "output_type": "error",
     "traceback": [
      "\u001b[1;31m---------------------------------------------------------------------------\u001b[0m",
      "\u001b[1;31mTypeError\u001b[0m                                 Traceback (most recent call last)",
      "\u001b[1;32m<ipython-input-68-de6dd700214c>\u001b[0m in \u001b[0;36m<module>\u001b[1;34m\u001b[0m\n\u001b[1;32m----> 1\u001b[1;33m \u001b[0moutput\u001b[0m\u001b[1;33m(\u001b[0m\u001b[0mex\u001b[0m\u001b[1;33m,\u001b[0m\u001b[0mtime\u001b[0m\u001b[1;33m,\u001b[0m\u001b[0msu\u001b[0m\u001b[1;33m,\u001b[0m\u001b[0minter\u001b[0m\u001b[1;33m,\u001b[0m\u001b[0mqu\u001b[0m\u001b[1;33m,\u001b[0m\u001b[0mtr\u001b[0m\u001b[1;33m)\u001b[0m\u001b[1;33m\u001b[0m\u001b[1;33m\u001b[0m\u001b[0m\n\u001b[0m",
      "\u001b[1;32m<ipython-input-51-9115fc60aefb>\u001b[0m in \u001b[0;36moutput\u001b[1;34m(experience, timeliness, support, interaction, quality, trouble)\u001b[0m\n\u001b[0;32m      6\u001b[0m     \u001b[1;32melif\u001b[0m \u001b[1;33m(\u001b[0m\u001b[0mexperience\u001b[0m\u001b[1;33m==\u001b[0m\u001b[1;36m2\u001b[0m \u001b[1;32mand\u001b[0m \u001b[0mtimeliness\u001b[0m\u001b[1;33m==\u001b[0m\u001b[1;36m2\u001b[0m \u001b[1;32mand\u001b[0m \u001b[0msupport\u001b[0m\u001b[1;33m==\u001b[0m\u001b[1;36m1\u001b[0m \u001b[1;32mand\u001b[0m \u001b[0minteraction\u001b[0m\u001b[1;33m==\u001b[0m\u001b[1;36m1\u001b[0m \u001b[1;32mand\u001b[0m \u001b[0mquality\u001b[0m\u001b[1;33m==\u001b[0m\u001b[1;36m1\u001b[0m \u001b[1;32mand\u001b[0m \u001b[0mtrouble\u001b[0m\u001b[1;33m==\u001b[0m\u001b[1;36m0\u001b[0m\u001b[1;33m)\u001b[0m\u001b[1;33m:\u001b[0m\u001b[1;33m\u001b[0m\u001b[1;33m\u001b[0m\u001b[0m\n\u001b[0;32m      7\u001b[0m         \u001b[1;32mreturn\u001b[0m \u001b[1;36m1.5\u001b[0m\u001b[1;33m\u001b[0m\u001b[1;33m\u001b[0m\u001b[0m\n\u001b[1;32m----> 8\u001b[1;33m     \u001b[1;32melif\u001b[0m \u001b[1;33m(\u001b[0m\u001b[0mexperience\u001b[0m\u001b[1;33m<=\u001b[0m\u001b[1;36m2\u001b[0m \u001b[1;32mand\u001b[0m \u001b[0mtimeliness\u001b[0m\u001b[1;33m<=\u001b[0m\u001b[1;36m2\u001b[0m \u001b[1;32mand\u001b[0m \u001b[0msupport\u001b[0m\u001b[1;33m>=\u001b[0m\u001b[1;36m3\u001b[0m \u001b[1;32mand\u001b[0m \u001b[0minteraction\u001b[0m\u001b[1;33m<=\u001b[0m\u001b[1;36m3\u001b[0m \u001b[1;32mand\u001b[0m \u001b[0mquality\u001b[0m\u001b[1;33m<=\u001b[0m\u001b[1;36m3\u001b[0m \u001b[1;32mand\u001b[0m \u001b[0mtrouble\u001b[0m\u001b[1;33m==\u001b[0m\u001b[1;36m1\u001b[0m\u001b[1;33m)\u001b[0m\u001b[1;33m:\u001b[0m\u001b[1;33m\u001b[0m\u001b[1;33m\u001b[0m\u001b[0m\n\u001b[0m\u001b[0;32m      9\u001b[0m         \u001b[1;32mreturn\u001b[0m \u001b[1;36m2\u001b[0m\u001b[1;33m\u001b[0m\u001b[1;33m\u001b[0m\u001b[0m\n\u001b[0;32m     10\u001b[0m     \u001b[1;32melif\u001b[0m \u001b[1;33m(\u001b[0m\u001b[0mexperience\u001b[0m\u001b[1;33m<=\u001b[0m\u001b[1;36m2\u001b[0m \u001b[1;32mand\u001b[0m \u001b[0mtimeliness\u001b[0m\u001b[1;33m<=\u001b[0m\u001b[1;36m2\u001b[0m \u001b[1;32mand\u001b[0m \u001b[0msupport\u001b[0m\u001b[1;33m>=\u001b[0m\u001b[1;36m3\u001b[0m \u001b[1;32mand\u001b[0m \u001b[0minteraction\u001b[0m\u001b[1;33m<=\u001b[0m\u001b[1;36m3\u001b[0m \u001b[1;32mand\u001b[0m \u001b[0mquality\u001b[0m\u001b[1;33m<=\u001b[0m\u001b[1;36m3\u001b[0m \u001b[1;32mand\u001b[0m \u001b[0mtrouble\u001b[0m\u001b[1;33m==\u001b[0m\u001b[1;36m0\u001b[0m\u001b[1;33m)\u001b[0m\u001b[1;33m:\u001b[0m\u001b[1;33m\u001b[0m\u001b[1;33m\u001b[0m\u001b[0m\n",
      "\u001b[1;31mTypeError\u001b[0m: '<=' not supported between instances of 'str' and 'int'"
     ]
    }
   ],
   "source": [
    "output(ex,time,su,inter,qu,tr)"
   ]
  },
  {
   "cell_type": "code",
   "execution_count": 18,
   "metadata": {},
   "outputs": [],
   "source": [
    "\n",
    "# # Custom membership functions can be built interactively with a familiar,\n",
    "# # Pythonic API\n",
    "# rating['poor'] = fuzz.trimf(rating.universe, [0, 0, 25])\n",
    "# # rating['fair'] = fuzz.trimf(rating.universe, [0, 25, 50])\n",
    "# rating['good'] = fuzz.trimf(rating.universe, [25, 50, 75])\n",
    "# rating['very good'] = fuzz.trimf(rating.universe, [50, 75, 100])\n",
    "# rating['excellent'] = fuzz.trimf(rating.universe, [75, 100, 100])"
   ]
  },
  {
   "cell_type": "code",
   "execution_count": 64,
   "metadata": {},
   "outputs": [],
   "source": [
    "# quality['average'].view()"
   ]
  },
  {
   "cell_type": "code",
   "execution_count": 63,
   "metadata": {},
   "outputs": [],
   "source": [
    "# interaction.view()"
   ]
  },
  {
   "cell_type": "code",
   "execution_count": 61,
   "metadata": {},
   "outputs": [],
   "source": [
    "# rule1 = ctrl.Rule(quality['poor'] | service['poor'], tip['low'])\n",
    "# rule2 = ctrl.Rule(service['average'], tip['medium'])\n",
    "# rule3 = ctrl.Rule(service['good'] | quality['good'], tip['high'])\n",
    "# rule1 = ctrl.Rule(quality['poor'] | service['poor'], tip['low'])\n",
    "# rule2 = ctrl.Rule(service['average'], tip['medium'])\n",
    "# rule3 = ctrl.Rule(service['good'] | quality['good'], tip['high'])\n",
    "# rule1 = ctrl.Rule(quality['poor'] | service['poor'], tip['low'])\n",
    "# rule2 = ctrl.Rule(service['average'], tip['medium'])\n",
    "# rule3 = ctrl.Rule(service['good'] | quality['good'], tip['high'])\n",
    "# rule1 = ctrl.Rule(quality['poor'] | service['poor'], tip['low'])\n",
    "# rule2 = ctrl.Rule(service['average'], tip['medium'])\n",
    "# rule3 = ctrl.Rule(service['good'] | quality['good'], tip['high'])\n",
    "\n",
    "# rule3.view()"
   ]
  },
  {
   "cell_type": "code",
   "execution_count": null,
   "metadata": {},
   "outputs": [],
   "source": []
  }
 ],
 "metadata": {
  "kernelspec": {
   "display_name": "Python 3",
   "language": "python",
   "name": "python3"
  }
 },
 "nbformat": 4,
 "nbformat_minor": 2
}
